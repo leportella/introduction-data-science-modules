{
 "cells": [
  {
   "cell_type": "markdown",
   "metadata": {},
   "source": [
    "# Introducing Matplotlib\n",
    "\n",
    "After reading and preparing the data, it's time to show some information graphically"
   ]
  },
  {
   "cell_type": "code",
   "execution_count": null,
   "metadata": {},
   "outputs": [],
   "source": [
    "import numpy as np\n",
    "import pandas as pd\n",
    "import matplotlib.pyplot as plt\n",
    "%matplotlib inline"
   ]
  },
  {
   "cell_type": "code",
   "execution_count": null,
   "metadata": {},
   "outputs": [],
   "source": [
    "df = pd.read_csv('world-happiness-report.csv')\n",
    "df.head()"
   ]
  },
  {
   "cell_type": "code",
   "execution_count": null,
   "metadata": {},
   "outputs": [],
   "source": [
    "plt.figure(figsize=(15, 5))\n",
    "plt.plot(df['satisfaction_level'][0:100])"
   ]
  },
  {
   "cell_type": "code",
   "execution_count": null,
   "metadata": {},
   "outputs": [],
   "source": [
    "plt.figure(figsize=(15, 5))\n",
    "plt.plot(df['satisfaction_level'][0:100], 'r')"
   ]
  },
  {
   "cell_type": "code",
   "execution_count": null,
   "metadata": {},
   "outputs": [],
   "source": [
    "plt.figure(figsize=(15, 5))\n",
    "plt.plot(df['satisfaction_level'][0:100], 'r')\n",
    "plt.plot(np.linspace(df.satisfaction_level.mean(), df.satisfaction_level.mean(), 100), 'k')\n",
    "plt.legend(['satisfaction', 'mean'])"
   ]
  },
  {
   "cell_type": "code",
   "execution_count": null,
   "metadata": {},
   "outputs": [],
   "source": [
    "plt.figure(figsize=(15, 5))\n",
    "plt.plot(df['satisfaction_level'][0:100], 'r')\n",
    "\n",
    "plt.title('Title')\n",
    "plt.ylabel('Percentage of people')\n",
    "plt.xlabel('Ids')\n",
    "plt.legend(['satisfaction'])\n",
    "plt.grid()"
   ]
  },
  {
   "cell_type": "code",
   "execution_count": null,
   "metadata": {},
   "outputs": [],
   "source": [
    "fig, ((ax1, ax2)) = plt.subplots(figsize=(15,5), nrows=2)\n",
    "\n",
    "ax1.plot(df['satisfaction_level'][0:100])\n",
    "\n",
    "ax2.plot(df['last_evaluation'][0:100])"
   ]
  },
  {
   "cell_type": "code",
   "execution_count": null,
   "metadata": {},
   "outputs": [],
   "source": [
    "plt.figure(figsize=(15, 5))\n",
    "hist = plt.hist(df['last_evaluation'][0:100], bins=100)\n",
    "\n",
    "plt.title('Histogram')\n",
    "plt.ylabel('Qtity')\n",
    "plt.xlabel('Last score')\n",
    "plt.grid()\n"
   ]
  },
  {
   "cell_type": "code",
   "execution_count": null,
   "metadata": {},
   "outputs": [],
   "source": [
    "def salary_conversion(x):\n",
    "    if x == 'low':\n",
    "        return 0\n",
    "    if x == 'medium':\n",
    "        return 1\n",
    "    if x == 'high':\n",
    "        return 2\n",
    "    return 3"
   ]
  },
  {
   "cell_type": "code",
   "execution_count": null,
   "metadata": {},
   "outputs": [],
   "source": [
    "df['salary'] = df.salary.apply(salary_conversion)\n",
    "df.salary.value_counts()"
   ]
  },
  {
   "cell_type": "code",
   "execution_count": null,
   "metadata": {},
   "outputs": [],
   "source": [
    "fig, ax = plt.subplots()\n",
    "ind = np.arange(3)\n",
    "rects1 = ax.bar(ind, df.salary.value_counts(), 0.35)\n",
    "text = ax.set_xticklabels(('', 'low', '', 'medium', '', 'high'))"
   ]
  },
  {
   "cell_type": "code",
   "execution_count": null,
   "metadata": {},
   "outputs": [],
   "source": [
    "fig, ax1 = plt.subplots()\n",
    "pie = ax1.pie(df.salary.value_counts(), labels=df.salary.unique(), autopct='%1.1f%%', startangle=90)\n",
    "equal = ax1.axis('equal') "
   ]
  },
  {
   "cell_type": "code",
   "execution_count": null,
   "metadata": {},
   "outputs": [],
   "source": [
    "fig, ax1 = plt.subplots()\n",
    "pie = ax1.pie(df.salary.value_counts(), labels=df.salary.unique(), autopct='%1.1f%%', startangle=90)\n",
    "equal = ax1.axis('equal')"
   ]
  },
  {
   "cell_type": "markdown",
   "metadata": {},
   "source": [
    "## Some pandas tricks!"
   ]
  },
  {
   "cell_type": "code",
   "execution_count": null,
   "metadata": {},
   "outputs": [],
   "source": [
    "df.last_evaluation[100:200].plot()"
   ]
  },
  {
   "cell_type": "code",
   "execution_count": null,
   "metadata": {
    "scrolled": true
   },
   "outputs": [],
   "source": [
    "df.salary.plot.density()"
   ]
  },
  {
   "cell_type": "code",
   "execution_count": null,
   "metadata": {},
   "outputs": [],
   "source": [
    "df.salary.plot.hist()"
   ]
  },
  {
   "cell_type": "markdown",
   "metadata": {},
   "source": [
    "Pandas actually uses matplotlib under it's plot functions. So we can actually mix and match commands:"
   ]
  },
  {
   "cell_type": "code",
   "execution_count": null,
   "metadata": {},
   "outputs": [],
   "source": [
    "plt.figure(figsize=(15,5))\n",
    "df.salary.plot.density()\n",
    "plt.title('Salaries')"
   ]
  },
  {
   "cell_type": "markdown",
   "metadata": {},
   "source": [
    "## Wanna make some fun!?\n",
    "\n",
    "\n",
    "XKCD??\n",
    "\n",
    "\n",
    "![xkcd](http://imgs.xkcd.com/comics/stove_ownership.png)"
   ]
  },
  {
   "cell_type": "code",
   "execution_count": null,
   "metadata": {},
   "outputs": [],
   "source": [
    "plt.xkcd()"
   ]
  },
  {
   "cell_type": "code",
   "execution_count": null,
   "metadata": {},
   "outputs": [],
   "source": [
    "df.last_evaluation[100:200].plot()"
   ]
  }
 ],
 "metadata": {
  "kernelspec": {
   "display_name": "Python 3",
   "language": "python",
   "name": "python3"
  },
  "language_info": {
   "codemirror_mode": {
    "name": "ipython",
    "version": 3
   },
   "file_extension": ".py",
   "mimetype": "text/x-python",
   "name": "python",
   "nbconvert_exporter": "python",
   "pygments_lexer": "ipython3",
   "version": "3.6.7"
  }
 },
 "nbformat": 4,
 "nbformat_minor": 2
}
